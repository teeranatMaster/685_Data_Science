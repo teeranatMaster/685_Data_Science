{
 "cells": [
  {
   "cell_type": "code",
   "execution_count": 1,
   "id": "7a9af73e-098c-4b1b-8c0b-e85b7b6adf0e",
   "metadata": {},
   "outputs": [],
   "source": [
    "# sklearn\n",
    "from sklearn.datasets import load_iris\n",
    "from sklearn.model_selection import train_test_split\n",
    "from sklearn.linear_model import LogisticRegression"
   ]
  },
  {
   "cell_type": "code",
   "execution_count": 2,
   "id": "f23df908-9ef9-44f6-803e-87543baf141c",
   "metadata": {},
   "outputs": [],
   "source": [
    "import numpy as np\n",
    "# mat\n",
    "import matplotlib.pyplot as plt\n",
    "# pandas\n",
    "import pandas as pd"
   ]
  },
  {
   "cell_type": "code",
   "execution_count": 3,
   "id": "1195a50c-44fb-4f48-922c-e3bf58c60e4d",
   "metadata": {},
   "outputs": [],
   "source": [
    "iris = load_iris()\n",
    "x = iris.data\n",
    "y = iris.target\n",
    "\n",
    "# split dataset for train and test\n",
    "x_train, x_test, y_train, y_test = train_test_split(x, y, random_state=13)"
   ]
  },
  {
   "cell_type": "markdown",
   "id": "1813edaf-8580-4f53-9f9d-68395819d292",
   "metadata": {},
   "source": [
    "### accurate score"
   ]
  },
  {
   "cell_type": "code",
   "execution_count": 4,
   "id": "4edb5d66-4d4b-41ae-a508-500759599a2a",
   "metadata": {},
   "outputs": [],
   "source": [
    "def cal_score(y_true, y_pred):\n",
    "    if len(y_pred) == 0 : return 0\n",
    "    correct_num = 0\n",
    "    for i in range(len(y_pred)):\n",
    "        if y_true[i] == y_pred[i]:\n",
    "            correct_num+=1\n",
    "    return f\"{100*correct_num/len(y_pred):.2f}%\""
   ]
  },
  {
   "cell_type": "markdown",
   "id": "d30ec7b7-6f6f-479a-a269-851a736440cf",
   "metadata": {},
   "source": [
    "### Q2. #1.\n",
    "#### Fit a logistic regression model to the raw dataset."
   ]
  },
  {
   "cell_type": "code",
   "execution_count": 5,
   "id": "f1cb032a-a62e-4cc4-ac54-1de9af3937e9",
   "metadata": {},
   "outputs": [
    {
     "name": "stdout",
     "output_type": "stream",
     "text": [
      "Score with raw data: 97.37%\n"
     ]
    }
   ],
   "source": [
    "model = LogisticRegression(max_iter = 1000)\n",
    "model.fit(x_train,y_train)\n",
    "y_pred = model.predict(x_test)\n",
    "score_raw_data = cal_score(y_test,y_pred)\n",
    "print(\"Score with raw data:\", score_raw_data)"
   ]
  },
  {
   "cell_type": "markdown",
   "id": "5bf65c53-8bc1-45e2-8ad2-560ee2f7c6d5",
   "metadata": {},
   "source": [
    "### Q2. #2.\n",
    "#### Z-score Normalization"
   ]
  },
  {
   "cell_type": "code",
   "execution_count": 6,
   "id": "1aedc823-ff4d-41c7-b6ee-ff760650b82a",
   "metadata": {},
   "outputs": [],
   "source": [
    "feature_nums = 4\n",
    "\n",
    "def cal_mean(x):\n",
    "    feature_sums = [0]*feature_nums\n",
    "    for row in x:\n",
    "        for i in range(feature_nums):\n",
    "            feature_sums[i] += row[i]\n",
    "    return np.array([ s / len(x) for s in feature_sums ])\n",
    "\n",
    "def cal_std(x,mean_v):\n",
    "    variance = [0]*feature_nums\n",
    "    # cal variance\n",
    "    for row in x:\n",
    "        for i in range(feature_nums):\n",
    "            variance[i] += (row[i]-mean_v[i])**2\n",
    "    variance = [v/(len(x)-1) for v in variance ]\n",
    "    return np.array([ v**0.5 for v in variance ])\n",
    "\n",
    "def z_score_norm(x,mean_v,std_v):    \n",
    "    return (x-mean_v)/std_v\n"
   ]
  },
  {
   "cell_type": "markdown",
   "id": "24767b64-e447-4f90-99a2-2710b426b6e1",
   "metadata": {},
   "source": [
    "### Q2. #3.\n",
    "#### Fit a logistic regression model to the normalized dataset "
   ]
  },
  {
   "cell_type": "code",
   "execution_count": 13,
   "id": "744f2eb0-4f66-4d33-aad3-fc26f45140b4",
   "metadata": {},
   "outputs": [
    {
     "name": "stdout",
     "output_type": "stream",
     "text": [
      "Score with raw data: 97.37%\n",
      "Score with Q2 #3 z-score normalization: 97.37%\n"
     ]
    }
   ],
   "source": [
    "mean_v = cal_mean(x_train)\n",
    "std_v = cal_std(x_train,mean_v)\n",
    "\n",
    "x_train_z_norm = z_score_norm(x_train,mean_v,std_v)\n",
    "x_test_z_norm = z_score_norm(x_test,mean_v,std_v)\n",
    "\n",
    "model2 = LogisticRegression(max_iter = 1000)\n",
    "model2.fit(x_train_z_norm,y_train)\n",
    "y_pred_norm = model2.predict(x_test_z_norm)\n",
    "score_z_norm = cal_score(y_test,y_pred_norm)\n",
    "\n",
    "print(\"Score with raw data:\", score_raw_data)\n",
    "print(\"Score with Q2 #3 z-score normalization:\",score_z_norm)"
   ]
  },
  {
   "cell_type": "markdown",
   "id": "a1f308ce-402e-4050-b8e1-f0bdf4af6f9d",
   "metadata": {},
   "source": [
    "### Q3. #1\n",
    "#### add outlier to x_train\n",
    "#### random pick 5 data from x then multiply all the picked data with 10"
   ]
  },
  {
   "cell_type": "code",
   "execution_count": 8,
   "id": "923469bc-e02f-4a45-8187-2ed38f060a55",
   "metadata": {},
   "outputs": [
    {
     "name": "stdout",
     "output_type": "stream",
     "text": [
      "<class 'numpy.ndarray'>\n",
      "random data picked:[[5.5 2.4 3.7 1. ]\n",
      " [6.2 3.4 5.4 2.3]\n",
      " [7.3 2.9 6.3 1.8]\n",
      " [6.3 2.9 5.6 1.8]\n",
      " [6.  3.  4.8 1.8]]\n",
      "random x outlier data:[[65. 34. 47. 20.]\n",
      " [72. 44. 64. 33.]\n",
      " [83. 39. 73. 28.]\n",
      " [73. 39. 66. 28.]\n",
      " [70. 40. 58. 28.]]\n",
      "random y outlier data:[0 2 2 1 1]\n"
     ]
    }
   ],
   "source": [
    "x_outlier = x.copy()\n",
    "y_outlier = y.copy()\n",
    "print(type(x_outlier))\n",
    "random_x_outliers = x_outlier[np.random.choice(x_outlier.shape[0], size=5, replace=False)]\n",
    "random_y = y_outlier[np.random.choice(y_outlier.shape[0], size=5, replace=False)]\n",
    "# x_sample = random.sample(x_outlier,10)\n",
    "print(f\"random data picked:{random_x_outliers}\")\n",
    "random_x_outliers = (random_x_outliers+1.0)*10\n",
    "print(f\"random x outlier data:{random_x_outliers}\")\n",
    "print(f\"random y outlier data:{random_y}\")\n",
    "x_outlier = np.append(x_outlier,random_x_outliers,axis=0)\n",
    "y_outlier = np.append(y_outlier,random_y)"
   ]
  },
  {
   "cell_type": "markdown",
   "id": "46994859-5d58-4532-a5a1-21ef531da162",
   "metadata": {},
   "source": [
    "### Q3 #2\n",
    "#### apply normalization to x_outlier"
   ]
  },
  {
   "cell_type": "code",
   "execution_count": 14,
   "id": "7a0723ba-d352-4ea4-a9d4-61e6a649fc7b",
   "metadata": {},
   "outputs": [
    {
     "name": "stdout",
     "output_type": "stream",
     "text": [
      "mean outlier:[8.12155172 4.26982759 5.68362069 2.05689655]\n",
      "std outlier:[12.44719494  6.63721026 11.07004532  4.91926513]\n",
      "Score with raw data: 97.37%\n",
      "Score with Q2 #3 z-score normalization: 97.37%\n",
      "Score with Q3 #2 outlier z-score normalization: 79.49%\n"
     ]
    }
   ],
   "source": [
    "# update split train test data\n",
    "x_outlier_train, x_outlier_test, y_outlier_train, y_outlier_test = train_test_split(x_outlier, y_outlier, random_state=13)\n",
    "mean_outlier_v = cal_mean(x_outlier_train)\n",
    "std_outlier_v = cal_std(x_outlier_train,mean_outlier_v)\n",
    "\n",
    "print(f\"mean outlier:{mean_outlier_v}\")\n",
    "print(f\"std outlier:{std_outlier_v}\")\n",
    "\n",
    "x_outlier_train_z_norm = z_score_norm(x_outlier_train,mean_outlier_v,std_outlier_v)\n",
    "x_outlier_test_z_norm = z_score_norm(x_outlier_test,mean_outlier_v,std_outlier_v)\n",
    "\n",
    "model3 = LogisticRegression(max_iter = 1000)\n",
    "model3.fit(x_outlier_train_z_norm,y_outlier_train)\n",
    "y_outlier_pred_z_norm = model3.predict(x_outlier_test_z_norm)\n",
    "score_outlier_z_norm = cal_score(y_outlier_test,y_outlier_pred_z_norm)\n",
    "\n",
    "print(\"Score with raw data:\", score_raw_data)\n",
    "print(\"Score with Q2 #3 z-score normalization:\",score_z_norm)\n",
    "print(\"Score with Q3 #2 outlier z-score normalization:\",score_outlier_z_norm)"
   ]
  },
  {
   "cell_type": "markdown",
   "id": "b7481149-9fa5-4b35-8899-1db75ba13487",
   "metadata": {},
   "source": [
    "### Q4 #1 \n",
    "#### Implement the robust variant of normalization"
   ]
  },
  {
   "cell_type": "code",
   "execution_count": 10,
   "id": "7742fc2d-0e3e-4af7-9333-8b7c49163c4c",
   "metadata": {},
   "outputs": [],
   "source": [
    "def cal_median(x):\n",
    "    medians = []\n",
    "    for col in range(x.shape[1]):\n",
    "        sorted_col = sorted(x[:,col])\n",
    "        if len(x)%2 == 0:\n",
    "            medians.append( sorted_col[len(x)//2] )\n",
    "        else :\n",
    "            medians.append( sorted_col[len(x)//2] + sorted_col[len(x)//2-1] )\n",
    "    return np.array(medians)\n",
    "\n",
    "# quatile can be calulate from median of split data set \n",
    "def cal_IQR(x):\n",
    "    iqrs = []\n",
    "    sorted_x = np.sort(x,axis=0)\n",
    "    # split data to half\n",
    "    if len(x)%2 == 0 :\n",
    "        lower_x = sorted_x[:len(x)//2]\n",
    "        upper_x = sorted_x[len(x)//2:]\n",
    "    else :\n",
    "        lower_x = sorted_x[:len(x)//2]\n",
    "        upper_x = sorted_x[len(x)//2+1:]\n",
    "    return cal_median(upper_x) - cal_median(lower_x)\n",
    "\n",
    "def robust_norm(x,medians,IQRs):\n",
    "    return (x - medians)/ IQRs"
   ]
  },
  {
   "cell_type": "markdown",
   "id": "3daaa18e-3659-450c-b58d-953e52f506e0",
   "metadata": {},
   "source": [
    "### Q4 #2\n",
    "#### Apply robust normalization on the dataset "
   ]
  },
  {
   "cell_type": "code",
   "execution_count": 15,
   "id": "57cb91dc-792e-49aa-9d00-c7e1b6822574",
   "metadata": {},
   "outputs": [
    {
     "name": "stdout",
     "output_type": "stream",
     "text": [
      "Score with raw data: 97.37%\n",
      "Score with Q2 #3 z-score normalization: 97.37%\n",
      "Score with Q3 #2 outlier z-score normalization: 79.49%\n",
      "Score with Q4 #2 robust score normalization: 97.37%\n"
     ]
    }
   ],
   "source": [
    "# on normal data\n",
    "median_v = cal_median(x_train)\n",
    "IQR_v = cal_IQR(x_train)\n",
    "# print(f\"median_v:{median_v}\")\n",
    "# print(f\"IQR_v:{IQR_v}\")\n",
    "\n",
    "x_train_robust_norm = robust_norm(x_train,median_v,IQR_v)\n",
    "x_test_robust_norm = robust_norm(x_test,median_v,IQR_v)\n",
    "\n",
    "model4_1 = LogisticRegression(max_iter = 1000)\n",
    "model4_1.fit(x_train_robust_norm,y_train)\n",
    "y_pred_robust_norm = model4_1.predict(x_test_robust_norm)\n",
    "score_robust_norm = cal_score(y_test,y_pred_robust_norm)\n",
    "\n",
    "print(\"Score with raw data:\", score_raw_data)\n",
    "print(\"Score with Q2 #3 z-score normalization:\",score_z_norm)\n",
    "print(\"Score with Q3 #2 outlier z-score normalization:\",score_outlier_z_norm)\n",
    "print(\"Score with Q4 #2 robust score normalization:\",score_robust_norm)"
   ]
  },
  {
   "cell_type": "code",
   "execution_count": 12,
   "id": "d1dc7dd6-70b0-40c6-8cac-7be9b0c13457",
   "metadata": {},
   "outputs": [
    {
     "name": "stdout",
     "output_type": "stream",
     "text": [
      "Score with raw data: 97.37%\n",
      "Score with Q2 #2 z-score normalization: 97.37%\n",
      "Score with Q3 #2 outlier z-score normalization: 79.49%\n",
      "Score with Q4 #2 robust normalization: 97.37%\n",
      "Score with Q4 #2 outlier robust normalization: 94.87%\n"
     ]
    }
   ],
   "source": [
    "# on outlier data\n",
    "median_outlier_v = cal_median(x_outlier_train)\n",
    "IQR_outlier_v = cal_IQR(x_outlier_train)\n",
    "# print(f\"median_outlier_v: {median_outlier_v}\")\n",
    "# print(f\"IQR_outlier_v: {IQR_outlier_v}\")\n",
    "\n",
    "x_outlier_train_robust_norm = robust_norm(x_outlier_train,median_v,IQR_v)\n",
    "x_outlier_test_robust_norm = robust_norm(x_outlier_test,median_v,IQR_v)\n",
    "\n",
    "model4_2 = LogisticRegression(max_iter = 1000)\n",
    "model4_2.fit(x_outlier_train_robust_norm,y_outlier_train)\n",
    "y_outlier_pred_robust_norm = model4_2.predict(x_outlier_test_robust_norm)\n",
    "score_outlier_robust_norm = cal_score(y_outlier_test,y_outlier_pred_robust_norm)\n",
    "\n",
    "print(\"Score with raw data:\", score_raw_data)\n",
    "print(\"Score with Q2 #2 z-score normalization:\",score_z_norm)\n",
    "print(\"Score with Q3 #2 outlier z-score normalization:\",score_outlier_z_norm)\n",
    "print(\"Score with Q4 #2 robust normalization:\",score_robust_norm)\n",
    "print(\"Score with Q4 #2 outlier robust normalization:\",score_outlier_robust_norm)"
   ]
  }
 ],
 "metadata": {
  "kernelspec": {
   "display_name": "Python 3 (ipykernel)",
   "language": "python",
   "name": "python3"
  },
  "language_info": {
   "codemirror_mode": {
    "name": "ipython",
    "version": 3
   },
   "file_extension": ".py",
   "mimetype": "text/x-python",
   "name": "python",
   "nbconvert_exporter": "python",
   "pygments_lexer": "ipython3",
   "version": "3.8.20"
  }
 },
 "nbformat": 4,
 "nbformat_minor": 5
}
