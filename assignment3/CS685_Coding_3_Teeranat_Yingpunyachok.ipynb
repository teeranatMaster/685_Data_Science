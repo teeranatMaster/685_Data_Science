{
 "cells": [
  {
   "cell_type": "code",
   "execution_count": 1,
   "id": "f28b5d3c-2bde-45ef-b3ad-c8eada3b83f3",
   "metadata": {},
   "outputs": [],
   "source": [
    "import numpy as np\n",
    "from sklearn.datasets import load_iris\n",
    "from sklearn.metrics import pairwise_distances\n",
    "import matplotlib.pyplot as plt"
   ]
  },
  {
   "cell_type": "markdown",
   "id": "a5ce60dc",
   "metadata": {},
   "source": [
    "0. simulate dataset with outliers"
   ]
  },
  {
   "cell_type": "code",
   "execution_count": 2,
   "id": "fd6ce79e-d095-4d4a-97d2-6bd66135a5c4",
   "metadata": {},
   "outputs": [
    {
     "name": "stdout",
     "output_type": "stream",
     "text": [
      "[50 51 52 53 54]\n",
      "Dataset size: (55, 4)\n"
     ]
    }
   ],
   "source": [
    "# Load the dataset\n",
    "iris = load_iris()\n",
    "X = iris.data  # features\n",
    "y = iris.target  # target values\n",
    "\n",
    "# Use only setosa (class 0) as \"normal data\"\n",
    "X_setosa = X[y == 0]\n",
    "\n",
    "# Add a few virginica (class 2) as \"outliers\"\n",
    "X_virginica = X[y == 2]\n",
    "np.random.seed(42)\n",
    "outlier_samples = X_virginica[np.random.choice(len(X_virginica), size=5, replace=False)]\n",
    "\n",
    "# Record indices of true outliers\n",
    "true_outlier_indices = np.arange(len(X_setosa), len(X_setosa) + len(outlier_samples))\n",
    "print(true_outlier_indices)\n",
    "\n",
    "# Final dataset: normal data (setosa) + outliers (some virginica)\n",
    "X_final = np.vstack([X_setosa, outlier_samples])\n",
    "print(\"Dataset size:\", X_final.shape)"
   ]
  },
  {
   "cell_type": "markdown",
   "id": "13f6d068",
   "metadata": {},
   "source": [
    "1. KNN outlier score"
   ]
  },
  {
   "cell_type": "code",
   "execution_count": 3,
   "id": "6e3629bf",
   "metadata": {},
   "outputs": [],
   "source": [
    "\n",
    "# X is not include x\n",
    "def calculate_distance(x,X):\n",
    "    return np.sqrt(np.sum(np.power(x-X,2),axis=1))\n",
    "\n",
    "def calculate_score(distances):\n",
    "    return np.mean(distances)\n",
    "    \n",
    "def knn_outlier_score(X, k):\n",
    "    # TODO: Compute average distance to k nearest neighbors for each sample.\n",
    "    scores = []\n",
    "    for i in range(len(X)):\n",
    "        x_base = X[i]\n",
    "        # filter x_base out of X\n",
    "        X_filter = np.delete(X,i,axis=0)\n",
    "        distances = calculate_distance(x_base,X_filter)\n",
    "        # find k \n",
    "        distances.sort()\n",
    "        distances_k_filtered = distances[:k]\n",
    "        score = calculate_score(distances_k_filtered)\n",
    "        scores.append(score)\n",
    "    return scores"
   ]
  },
  {
   "cell_type": "markdown",
   "id": "6d6e083a",
   "metadata": {},
   "source": [
    "2. KNN outlier detection"
   ]
  },
  {
   "cell_type": "code",
   "execution_count": 4,
   "id": "67af90bf",
   "metadata": {},
   "outputs": [],
   "source": [
    "def detect_outliers(X, k, T):\n",
    "    # TODO: find index of outliers\n",
    "    outlier_scores = knn_outlier_score(X,k)\n",
    "    outliers = []\n",
    "    for i in range(len(X)):\n",
    "        if outlier_scores[i] > T:\n",
    "            outliers.append(i)\n",
    "    return np.array(outliers)"
   ]
  },
  {
   "cell_type": "markdown",
   "id": "eba707d4",
   "metadata": {},
   "source": [
    "3. Experiment and Visualization"
   ]
  },
  {
   "cell_type": "code",
   "execution_count": 5,
   "id": "071a78ad",
   "metadata": {},
   "outputs": [
    {
     "name": "stdout",
     "output_type": "stream",
     "text": [
      "Detected outliers (indices): [50 51 52 53 54]\n",
      "True outliers (indices): [50 51 52 53 54]\n"
     ]
    },
    {
     "data": {
      "image/png": "[encoded data removed]",
      "text/plain": [
       "<Figure size 640x480 with 1 Axes>"
      ]
     },
     "metadata": {},
     "output_type": "display_data"
    }
   ],
   "source": [
    "# TODO: set k and threshold T\n",
    "k = 7\n",
    "T = 1\n",
    "\n",
    "scores = knn_outlier_score(X_final, k)\n",
    "outliers = detect_outliers(X_final, k, T)\n",
    "print(\"Detected outliers (indices):\", outliers)\n",
    "print(\"True outliers (indices):\", true_outlier_indices)\n",
    "\n",
    "# TODO: visualize detection results using scatter plot\n",
    "# red for outliers, green for normal data\n",
    "# choose any two feasures for visualization\n",
    "feature1_index = 0\n",
    "feature3_index = 2\n",
    "X_normal = np.delete(X_final,outliers,axis=0)\n",
    "X_outlier = X_final[outliers]\n",
    "\n",
    "plt.figure()\n",
    "plt.scatter(X_normal[:, feature1_index], X_normal[:, feature3_index], color='green', label='Normal')\n",
    "plt.scatter(X_outlier[:, feature1_index], X_outlier[:, feature3_index], color='red', label='Outlier')\n",
    "plt.xlabel(iris.feature_names[feature1_index])\n",
    "plt.ylabel(iris.feature_names[feature3_index])\n",
    "plt.legend()\n",
    "plt.grid(True)\n"
   ]
  },
  {
   "cell_type": "markdown",
   "id": "2370754b",
   "metadata": {},
   "source": [
    "4. Evaluation: TPR & FPR"
   ]
  },
  {
   "cell_type": "code",
   "execution_count": 6,
   "id": "31efa49e",
   "metadata": {},
   "outputs": [
    {
     "name": "stdout",
     "output_type": "stream",
     "text": [
      "True Outliers Detected rate: 5 / 5\n",
      "False Positives rate: 0 / 50\n"
     ]
    }
   ],
   "source": [
    "# TODO: calculate TPR and FPR\n",
    "correct_outlier_indices = []\n",
    "wrong_outlier_indices = []\n",
    "for outlier in outliers:\n",
    "    if outlier in true_outlier_indices:\n",
    "        correct_outlier_indices.append(outlier)\n",
    "    else:\n",
    "        wrong_outlier_indices.append(outlier)\n",
    "TP = len(correct_outlier_indices)\n",
    "FP = len(wrong_outlier_indices)\n",
    "\n",
    "print(f\"True Outliers Detected rate: {TP} / {len(true_outlier_indices)}\")\n",
    "print(f\"False Positives rate: {FP} / {len(X_setosa)}\")"
   ]
  },
  {
   "cell_type": "markdown",
   "id": "94c54587",
   "metadata": {},
   "source": [
    "5. Histogram of Outlier Scores"
   ]
  },
  {
   "cell_type": "code",
   "execution_count": 7,
   "id": "55977f3b",
   "metadata": {},
   "outputs": [
    {
     "data": {
      "text/plain": [
       "Text(0, 0.5, 'frequency')"
      ]
     },
     "execution_count": 7,
     "metadata": {},
     "output_type": "execute_result"
    },
    {
     "data": {
      "image/png": "[encoded data removed]",
      "text/plain": [
       "<Figure size 640x480 with 1 Axes>"
      ]
     },
     "metadata": {},
     "output_type": "display_data"
    }
   ],
   "source": [
    "# TODO: plot histogram of outlier scores to find proper threshold T \n",
    "# You can set a large num of bins (e.g., 50) for higher resolution\n",
    "plt.hist(scores,bins=50,edgecolor='black')\n",
    "plt.xlabel(f\"scores\")\n",
    "plt.ylabel(\"frequency\")"
   ]
  },
  {
   "cell_type": "markdown",
   "id": "6fa64fb2-838c-4b2f-8867-7cffe31ab1e4",
   "metadata": {},
   "source": [
    "# TODO:\n",
    "# Based on the histogram, what is a better choice for T?\n",
    "# Anlyze the effects of hyper-parameters, k and T, on detection performance.\n",
    "### T\n",
    "- T is small: detect more outlier but have a change to misclassifying normal data as outliers\n",
    "- T is large: may miss true outliers\n",
    "### k\n",
    "- K is small: may miss outlier if it not far from normal data\n",
    "- K is large: may include many normal data make it harder to detect outlier"
   ]
  }
 ],
 "metadata": {
  "kernelspec": {
   "display_name": "Python 3 (ipykernel)",
   "language": "python",
   "name": "python3"
  },
  "language_info": {
   "codemirror_mode": {
    "name": "ipython",
    "version": 3
   },
   "file_extension": ".py",
   "mimetype": "text/x-python",
   "name": "python",
   "nbconvert_exporter": "python",
   "pygments_lexer": "ipython3",
   "version": "3.8.20"
  }
 },
 "nbformat": 4,
 "nbformat_minor": 5
}
